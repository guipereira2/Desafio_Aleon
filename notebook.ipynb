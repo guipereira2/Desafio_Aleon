{
 "cells": [
  {
   "cell_type": "code",
   "execution_count": 1,
   "metadata": {},
   "outputs": [],
   "source": [
    "import requests\n",
    "import pandas as pd"
   ]
  },
  {
   "cell_type": "markdown",
   "metadata": {},
   "source": [
    "- What adverse reactions are frequently reported? \n",
    "- Who reports adverse events?\n",
    "- Adverse drug event reports since 2004 Country\n",
    "- Populated with Patient Age Group code. \n",
    "- Outcome of the reaction in reactionmeddrapt at the time of last observation.\n",
    "- The drug’s dosage form. There is no standard, but values may include terms like tablet or solution for injection."
   ]
  },
  {
   "cell_type": "code",
   "execution_count": 34,
   "metadata": {},
   "outputs": [
    {
     "name": "stdout",
     "output_type": "stream",
     "text": [
      "Variável df_frequent_adverse_reactions criada.\n",
      "Variável df_adverse_event_reporters criada.\n",
      "Variável df_reports_by_country criada.\n",
      "Variável df_patient_age_groups criada.\n",
      "Variável df_reaction_outcomes criada.\n",
      "Variável df_drug_dosage_forms criada.\n"
     ]
    }
   ],
   "source": [
    "#URLs escolhidas para análise: Food and Drug Administration (FDA)\n",
    "urls = {\n",
    "    \"frequent_adverse_reactions\": 'https://api.fda.gov/drug/event.json?search=receivedate:[20040101+TO+20241219]&count=patient.drug.activesubstance.activesubstancename.exact',\n",
    "    \"adverse_event_reporters\": 'https://api.fda.gov/drug/event.json?search=receivedate:[20040101+TO+20241219]&count=primarysource.qualification',\n",
    "    \"reports_by_country\": 'https://api.fda.gov/drug/event.json?search=receivedate:[20040101+TO+20241219]&count=primarysource.reportercountry.exact',\n",
    "    \"patient_age_groups\": 'https://api.fda.gov/drug/event.json?search=receivedate:[20040101+TO+20241219]&count=patient.patientagegroup',\n",
    "    \"reaction_outcomes\": 'https://api.fda.gov/drug/event.json?search=receivedate:[20040101+TO+20241219]&count=patient.reaction.reactionoutcome',\n",
    "    \"drug_dosage_forms\": 'https://api.fda.gov/drug/event.json?search=receivedate:[20040101+TO+20241219]&count=patient.drug.drugdosageform.exact',\n",
    "}\n",
    "\n",
    "#Função para extração dos dados da API que realiza uma requisição GET e retorna o JSON, inclui também tratamento de erros\n",
    "def extracao(url): \n",
    "    try: \n",
    "        requisicao = requests.get(url, timeout=60)\n",
    "        requisicao.raise_for_status()\n",
    "        return requisicao.json()\n",
    "    except requests.exceptions.RequestException as erro: \n",
    "        print(f\"Erro ao acessar {url}\", {erro})\n",
    "\n",
    "# Função que itera sobre o dicionário de urls passando como parâmetro para a função extração e retorna a coluna de results da API como um dataframe pandas\n",
    "def dataframe():\n",
    "    dados = {}\n",
    "    for nome, url in urls.items():\n",
    "        arquivo_json = extracao(url)\n",
    "        df = pd.DataFrame(arquivo_json['results'])\n",
    "        dados[nome] = df\n",
    "    return dados\n",
    "\n",
    "#Gerando DataFrames dos dados da API e os armazenando em um dicionário\n",
    "dados_api = dataframe()\n",
    "\n",
    "#Itera sbre o dicionário de dataframe e cria uma variável global para acesso \n",
    "for nome, df in dados_api.items():\n",
    "    if df is not None:\n",
    "        globals()[f\"df_{nome}\"] = df\n",
    "        print(f\"Variável df_{nome} criada.\")"
   ]
  }
 ],
 "metadata": {
  "kernelspec": {
   "display_name": "base",
   "language": "python",
   "name": "python3"
  },
  "language_info": {
   "codemirror_mode": {
    "name": "ipython",
    "version": 3
   },
   "file_extension": ".py",
   "mimetype": "text/x-python",
   "name": "python",
   "nbconvert_exporter": "python",
   "pygments_lexer": "ipython3",
   "version": "3.11.10"
  }
 },
 "nbformat": 4,
 "nbformat_minor": 2
}
