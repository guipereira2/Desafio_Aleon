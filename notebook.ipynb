{
 "cells": [
  {
   "cell_type": "markdown",
   "metadata": {},
   "source": [
    "# Desafio Técnico Etapa 1 - Guilherme Campos"
   ]
  },
  {
   "cell_type": "markdown",
   "metadata": {},
   "source": [
    "## Objetivos\n",
    " - Escolher uma API para extração de dados\n",
    " - Formatar os dados da API de forma tabular utilizando Pandas\n",
    " - Criar gráficos, análises, tabelas, sobre os dados extraídos, utilizando bibliotecas python"
   ]
  },
  {
   "cell_type": "markdown",
   "metadata": {},
   "source": [
    "### API escolhida\n",
    "\n",
    "Após realizar a leitura das APIs disponíveis, decidi optar pela API da Food and Drug Administration (FDA), pois tenho experiência prévia em projetos de análise de dados e aprendizado de máquina com dados de saúde. Essa experiência me levou a escolher essa API, que se alinha com meu conhecimento. Após tomar a decisão de utilizar a API da FDA dediquei um tempo para ler o overview e a documentação, além disso li alguns exemplos disponíveis e realizei alguns testes de chamdas da API pelo navegador. A consulta é estruturada com a URL base da API e parâmetros específicos, como a busca, número de registros e limite, essa consulta tem a forma: \n",
    "- https://api.fda.gov/drug/label.json(endpoint base)?search=campo:termo&limit=5(limite)."
   ]
  },
  {
   "cell_type": "markdown",
   "metadata": {},
   "source": [
    "### Categorias escolhidas\n",
    "\n",
    "Escolhi essas categorias pois achei seu contexto relevante na análise de dados de sáude\n",
    "\n",
    "- What adverse reactions are frequently reported?: Essa categoria me permite explorar as condições adversas mais frequentemente registradas, o que pode fornecer insights sobre quais medicamentos ou substâncias estão associadas a efeitos colaterais comuns\n",
    "\n",
    "- Who reports adverse events?: Com essa informação é possível identificar quais fontes estão mais frequentimente relatando os eventos adversos, permitindo uma possível correlação \n",
    "\n",
    "- Adverse drug event reports by Country: Essa categoria permite a análise geográfica nos medicamentos \n",
    "\n",
    "- Populated with Patient Age Group code.: Analisando os dados agrupados por faixa etária, é possível entender como as reações adversas variam entre diferentes grupos de pacientes, ajudando na personalização de tratamentos e abordagens médicas.\n",
    "\n",
    "- Outcome of the reaction at the time of last observation.: Essa categoria permite avaliar a gravidade das reações adversas, observando os desfechos e os efeitos das reações no paciente ao longo do tempo.\n",
    "\n",
    "\n",
    "- The drug’s dosage form.: Essa informação pode ser útil para correlacionar a forma de administração com o tipo de reação adversa"
   ]
  },
  {
   "cell_type": "code",
   "execution_count": 46,
   "metadata": {},
   "outputs": [],
   "source": [
    "#Importação das bibliotecas necessárias para a extração da API\n",
    "import requests\n",
    "import pandas as pd"
   ]
  },
  {
   "cell_type": "code",
   "execution_count": 42,
   "metadata": {},
   "outputs": [
    {
     "name": "stdout",
     "output_type": "stream",
     "text": [
      "Requisições sem erro\n",
      "Variável df_frequent_adverse_reactions criada.\n",
      "Variável df_adverse_event_reporters criada.\n",
      "Variável df_reports_by_country criada.\n",
      "Variável df_patient_age_groups criada.\n",
      "Variável df_reaction_outcomes criada.\n",
      "Variável df_drug_dosage_forms criada.\n"
     ]
    }
   ],
   "source": [
    "#URLs escolhidas para análise: Food and Drug Administration (FDA)\n",
    "urls = {\n",
    "    \"frequent_adverse_reactions\": 'https://api.fda.gov/drug/event.json?search=receivedate:[20040101+TO+20241219]&count=patient.drug.activesubstance.activesubstancename.exact',\n",
    "    \"adverse_event_reporters\": 'https://api.fda.gov/drug/event.json?search=receivedate:[20040101+TO+20241219]&count=primarysource.qualification',\n",
    "    \"reports_by_country\": 'https://api.fda.gov/drug/event.json?search=receivedate:[20040101+TO+20241219]&count=primarysource.reportercountry.exact',\n",
    "    \"patient_age_groups\": 'https://api.fda.gov/drug/event.json?search=receivedate:[20040101+TO+20241219]&count=patient.patientagegroup',\n",
    "    \"reaction_outcomes\": 'https://api.fda.gov/drug/event.json?search=receivedate:[20040101+TO+20241219]&count=patient.reaction.reactionoutcome',\n",
    "    \"drug_dosage_forms\": 'https://api.fda.gov/drug/event.json?search=receivedate:[20040101+TO+20241219]&count=patient.drug.drugdosageform.exact',\n",
    "}\n",
    "\n",
    "#Função para extração dos dados da API que realiza uma requisição GET e retorna o JSON, inclui também tratamento de erros\n",
    "def extracao(url): \n",
    "    try: \n",
    "        requisicao = requests.get(url, timeout=60)\n",
    "        requisicao.raise_for_status()\n",
    "        return requisicao.json()\n",
    "    except requests.exceptions.RequestException as erro: \n",
    "        print(f\"Erro ao acessar {url}\", {erro})\n",
    "\n",
    "# Função que itera sobre o dicionário de urls passando como parâmetro para a função extração e retorna a coluna de results da API como um dataframe pandas\n",
    "def dataframe():\n",
    "    dados = {}\n",
    "    for nome, url in urls.items():\n",
    "        try: \n",
    "            arquivo_json = extracao(url)\n",
    "            if 'results' in arquivo_json and arquivo_json['results']: \n",
    "                df = pd.DataFrame(arquivo_json['results'])\n",
    "                dados[nome] = df\n",
    "            else: \n",
    "                print(f\"Erro para a URL: {url}\")\n",
    "        except Exception as erro: \n",
    "            print(f\"Erro para a url {url} {erro}\")\n",
    "            \n",
    "    print(\"Requisições sem erro\")\n",
    "    return dados\n",
    "\n",
    "#Gerando DataFrames dos dados da API e os armazenando em um dicionário\n",
    "dados_api = dataframe()\n",
    "\n",
    "#Itera sbre o dicionário de dataframe e cria uma variável global para acesso \n",
    "for nome, df in dados_api.items():\n",
    "    if df is not None:\n",
    "        globals()[f\"df_{nome}\"] = df\n",
    "        print(f\"Variável df_{nome} criada.\")\n",
    "    else: \n",
    "        print(f\"Erro ao criar o DatFrame {nome}.\")\n",
    "\n"
   ]
  },
  {
   "cell_type": "markdown",
   "metadata": {},
   "source": [
    "Durante essa etapa do código, inicialmente fiz a leitura individual de cada URL. No entanto, percebi que o código não estava otimizado, então reescrevi de forma mais otimizada usando funções. Após isso, encontrei dificuldades ao tentar acessar cada DataFrame individualmente, o que me levou a pesquisar sobre variáveis globais e como criá-las a partir de um dicionário. Meu pensamento para essa etapa foi de criar um dicionário contendo todas as urls , em seguida, desenvolver uma função responsável pela leitura dos dados com tratamento de erros. Após isso, implementei uma função para iterar pelas URls e transformar os dados em DataFrames. Por fim, após a dificuldade de acessar cada dataframe de forma individual e global criei uma função para iterar no dicionário de dataframes e criar uma varíavel para cada dataframe. O principal motivo que me levou a adotar essa abordagem foi que, caso novas URLs sejam adicionadas, o processo se torna mais simples e eficiente"
   ]
  },
  {
   "cell_type": "markdown",
   "metadata": {},
   "source": [
    "### Primeira análise nos dados \n",
    "O objetivo da próxima etapa será analisar os tipos de dados, identificar se há presença de dados ausente e, caso necessário, realizar alterações e manipulações"
   ]
  }
 ],
 "metadata": {
  "kernelspec": {
   "display_name": "base",
   "language": "python",
   "name": "python3"
  },
  "language_info": {
   "codemirror_mode": {
    "name": "ipython",
    "version": 3
   },
   "file_extension": ".py",
   "mimetype": "text/x-python",
   "name": "python",
   "nbconvert_exporter": "python",
   "pygments_lexer": "ipython3",
   "version": "3.11.10"
  }
 },
 "nbformat": 4,
 "nbformat_minor": 2
}
